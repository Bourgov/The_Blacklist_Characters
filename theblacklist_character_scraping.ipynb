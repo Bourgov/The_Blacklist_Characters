{
 "cells": [
  {
   "cell_type": "code",
   "execution_count": 1,
   "id": "b1b6a086",
   "metadata": {},
   "outputs": [],
   "source": [
    "import pandas as pd\n",
    "import time\n",
    "from selenium import webdriver\n",
    "from webdriver_manager.chrome import ChromeDriverManager\n",
    "from selenium.webdriver.common.by import By\n",
    "from selenium.webdriver.chrome.service import Service\n",
    "from selenium.webdriver.chrome.options import Options\n",
    "import matplotlib.pyplot as plt"
   ]
  },
  {
   "cell_type": "markdown",
   "id": "bc57e68f",
   "metadata": {},
   "source": [
    "# Creat driver"
   ]
  },
  {
   "cell_type": "code",
   "execution_count": 2,
   "id": "8f9b68bc",
   "metadata": {},
   "outputs": [
    {
     "name": "stderr",
     "output_type": "stream",
     "text": [
      "C:\\Users\\K. BOURGOU\\AppData\\Local\\Temp\\ipykernel_4076\\1503906442.py:1: DeprecationWarning: executable_path has been deprecated, please pass in a Service object\n",
      "  driver = webdriver.Chrome(ChromeDriverManager().install())\n"
     ]
    }
   ],
   "source": [
    "driver = webdriver.Chrome(ChromeDriverManager().install())"
   ]
  },
  {
   "cell_type": "code",
   "execution_count": 3,
   "id": "c8a3e2ae",
   "metadata": {},
   "outputs": [],
   "source": [
    "page_url = \"https://the-blacklist.fandom.com/wiki/Category:Characters\"\n",
    "driver.get(page_url)"
   ]
  },
  {
   "cell_type": "markdown",
   "id": "ef198e15",
   "metadata": {},
   "source": [
    "### Skip cookies button"
   ]
  },
  {
   "cell_type": "code",
   "execution_count": 4,
   "id": "b1f0cb80",
   "metadata": {},
   "outputs": [],
   "source": [
    "time.sleep(3)\n",
    "from selenium.webdriver.common.by import By\n",
    "\n",
    "driver.find_element(By.XPATH, '//div[text()=\"ACCEPT\"]').click()"
   ]
  },
  {
   "cell_type": "markdown",
   "id": "c6c15f70",
   "metadata": {},
   "source": [
    "# Find Categories"
   ]
  },
  {
   "cell_type": "code",
   "execution_count": 5,
   "id": "2ff12120",
   "metadata": {},
   "outputs": [],
   "source": [
    "character_categories = driver.find_elements(By.CLASS_NAME, 'category-page__member-link')"
   ]
  },
  {
   "cell_type": "code",
   "execution_count": 6,
   "id": "3a40f194",
   "metadata": {},
   "outputs": [
    {
     "data": {
      "text/plain": [
       "'Category:Blacklist members'"
      ]
     },
     "execution_count": 6,
     "metadata": {},
     "output_type": "execute_result"
    }
   ],
   "source": [
    "character_categories[0].text"
   ]
  },
  {
   "cell_type": "code",
   "execution_count": 7,
   "id": "09c552bf",
   "metadata": {},
   "outputs": [
    {
     "data": {
      "text/plain": [
       "'https://the-blacklist.fandom.com/wiki/Category:Blacklist_members'"
      ]
     },
     "execution_count": 7,
     "metadata": {},
     "output_type": "execute_result"
    }
   ],
   "source": [
    "character_categories[0].get_attribute('href')"
   ]
  },
  {
   "cell_type": "code",
   "execution_count": 8,
   "id": "51f21ec6",
   "metadata": {},
   "outputs": [],
   "source": [
    "driver.get(character_categories[0].get_attribute('href'))"
   ]
  },
  {
   "cell_type": "code",
   "execution_count": 9,
   "id": "e9332c64",
   "metadata": {},
   "outputs": [],
   "source": [
    "character_elements = driver.find_elements(by=By.CLASS_NAME, value='category-page__member-link')"
   ]
  },
  {
   "cell_type": "code",
   "execution_count": 10,
   "id": "1ef6399d",
   "metadata": {},
   "outputs": [
    {
     "data": {
      "text/plain": [
       "'Abraham J. Stern'"
      ]
     },
     "execution_count": 10,
     "metadata": {},
     "output_type": "execute_result"
    }
   ],
   "source": [
    "character_elements[0].text"
   ]
  },
  {
   "cell_type": "markdown",
   "id": "553def12",
   "metadata": {},
   "source": [
    "# Setup and Categorize"
   ]
  },
  {
   "cell_type": "code",
   "execution_count": 11,
   "id": "8fbd2a98",
   "metadata": {},
   "outputs": [
    {
     "data": {
      "text/plain": [
       "[{'name': 'Category:Blacklist members',\n",
       "  'url': 'https://the-blacklist.fandom.com/wiki/Category:Blacklist_members'},\n",
       " {'name': 'Category:Blacklist members active',\n",
       "  'url': 'https://the-blacklist.fandom.com/wiki/Category:Blacklist_members_active'},\n",
       " {'name': 'Category:Blacklist members captured',\n",
       "  'url': 'https://the-blacklist.fandom.com/wiki/Category:Blacklist_members_captured'},\n",
       " {'name': 'Category:Blacklist members deceased',\n",
       "  'url': 'https://the-blacklist.fandom.com/wiki/Category:Blacklist_members_deceased'},\n",
       " {'name': 'Category:Blacklist members incarcerated',\n",
       "  'url': 'https://the-blacklist.fandom.com/wiki/Category:Blacklist_members_incarcerated'},\n",
       " {'name': 'Category:Comic Character',\n",
       "  'url': 'https://the-blacklist.fandom.com/wiki/Category:Comic_Character'},\n",
       " {'name': 'Category:Criminals',\n",
       "  'url': 'https://the-blacklist.fandom.com/wiki/Category:Criminals'},\n",
       " {'name': 'Category:Deceased',\n",
       "  'url': 'https://the-blacklist.fandom.com/wiki/Category:Deceased'},\n",
       " {'name': 'Category:Employed by Artax Network',\n",
       "  'url': 'https://the-blacklist.fandom.com/wiki/Category:Employed_by_Artax_Network'},\n",
       " {'name': 'Category:Employed by Cabal',\n",
       "  'url': 'https://the-blacklist.fandom.com/wiki/Category:Employed_by_Cabal'},\n",
       " {'name': 'Category:Employed by Constantin Rostov',\n",
       "  'url': 'https://the-blacklist.fandom.com/wiki/Category:Employed_by_Constantin_Rostov'},\n",
       " {'name': 'Category:Employed by Elizabeth Keen',\n",
       "  'url': 'https://the-blacklist.fandom.com/wiki/Category:Employed_by_Elizabeth_Keen'},\n",
       " {'name': 'Category:Employed by Milos Kirchoff',\n",
       "  'url': 'https://the-blacklist.fandom.com/wiki/Category:Employed_by_Milos_Kirchoff'},\n",
       " {'name': 'Category:Employed by Neville Townsend',\n",
       "  'url': 'https://the-blacklist.fandom.com/wiki/Category:Employed_by_Neville_Townsend'},\n",
       " {'name': 'Category:Employed by Raymond Reddington',\n",
       "  'url': 'https://the-blacklist.fandom.com/wiki/Category:Employed_by_Raymond_Reddington'},\n",
       " {'name': 'Category:Employed by Tatiana Petrova',\n",
       "  'url': 'https://the-blacklist.fandom.com/wiki/Category:Employed_by_Tatiana_Petrova'},\n",
       " {'name': 'Category:FBI Agents',\n",
       "  'url': 'https://the-blacklist.fandom.com/wiki/Category:FBI_Agents'},\n",
       " {'name': 'Category:Game character',\n",
       "  'url': 'https://the-blacklist.fandom.com/wiki/Category:Game_character'},\n",
       " {'name': 'Category:Incarcerated',\n",
       "  'url': 'https://the-blacklist.fandom.com/wiki/Category:Incarcerated'},\n",
       " {'name': 'Category:Novel Character',\n",
       "  'url': 'https://the-blacklist.fandom.com/wiki/Category:Novel_Character'},\n",
       " {'name': 'Category:Redemption Season 1 Characters',\n",
       "  'url': 'https://the-blacklist.fandom.com/wiki/Category:Redemption_Season_1_Characters'},\n",
       " {'name': 'Category:Season 1 Characters',\n",
       "  'url': 'https://the-blacklist.fandom.com/wiki/Category:Season_1_Characters'},\n",
       " {'name': 'Category:Season 10 Characters',\n",
       "  'url': 'https://the-blacklist.fandom.com/wiki/Category:Season_10_Characters'},\n",
       " {'name': 'Category:Season 2 Characters',\n",
       "  'url': 'https://the-blacklist.fandom.com/wiki/Category:Season_2_Characters'},\n",
       " {'name': 'Category:Season 3 Characters',\n",
       "  'url': 'https://the-blacklist.fandom.com/wiki/Category:Season_3_Characters'},\n",
       " {'name': 'Category:Season 4 Characters',\n",
       "  'url': 'https://the-blacklist.fandom.com/wiki/Category:Season_4_Characters'},\n",
       " {'name': 'Category:Season 5 Characters',\n",
       "  'url': 'https://the-blacklist.fandom.com/wiki/Category:Season_5_Characters'},\n",
       " {'name': 'Category:Season 6 Characters',\n",
       "  'url': 'https://the-blacklist.fandom.com/wiki/Category:Season_6_Characters'},\n",
       " {'name': 'Category:Season 7 Characters',\n",
       "  'url': 'https://the-blacklist.fandom.com/wiki/Category:Season_7_Characters'},\n",
       " {'name': 'Category:Season 8 Characters',\n",
       "  'url': 'https://the-blacklist.fandom.com/wiki/Category:Season_8_Characters'},\n",
       " {'name': 'Category:Season 9 Characters',\n",
       "  'url': 'https://the-blacklist.fandom.com/wiki/Category:Season_9_Characters'}]"
      ]
     },
     "execution_count": 11,
     "metadata": {},
     "output_type": "execute_result"
    }
   ],
   "source": [
    "## Setup chrome options\n",
    "chrome_options = Options()\n",
    "chrome_options.add_argument(\"--headless\") # Ensure GUI is off\n",
    "chrome_options.add_argument(\"--no-sandbox\")\n",
    "\n",
    "# Create service\n",
    "webdriver_service = Service(ChromeDriverManager().install())\n",
    "\n",
    "# Create driver\n",
    "driver = webdriver.Chrome(service = webdriver_service, options = chrome_options)\n",
    "\n",
    "# Go to the characters in category page\n",
    "page_url = \"https://the-blacklist.fandom.com/wiki/Category:Characters\"\n",
    "driver.get(page_url)\n",
    "\n",
    "# # Accept cookies\n",
    "time.sleep(3)\n",
    "driver.find_element(By.XPATH, '//div[text()=\"ACCEPT\"]').click()\n",
    "\n",
    "# Find categories of characters\n",
    "character_categories = driver.find_elements(By.CLASS_NAME, 'category-page__member-link')\n",
    "categories_of_characters = []\n",
    "for category in character_categories:\n",
    "    category_type_url = category.get_attribute('href')\n",
    "    category_type_name = category.text\n",
    "    categories_of_characters.append({'name': category_type_name, \"url\": category_type_url})\n",
    "categories_of_characters"
   ]
  },
  {
   "cell_type": "markdown",
   "id": "ef33439b",
   "metadata": {},
   "source": [
    "# Create characters_list"
   ]
  },
  {
   "cell_type": "code",
   "execution_count": 12,
   "id": "55fa356d",
   "metadata": {},
   "outputs": [],
   "source": [
    "characters_list = []\n",
    "\n",
    "for category in categories_of_characters:\n",
    "    # go to category page\n",
    "    driver.get(category['url'])\n",
    "    \n",
    "    character_elements = driver.find_elements(by=By.CLASS_NAME, value = 'category-page__member-link')\n",
    "    \n",
    "    for elements in character_elements:\n",
    "        characters_list.append({'category': category['name'],'character': elements.text})"
   ]
  },
  {
   "cell_type": "code",
   "execution_count": 13,
   "id": "5db154ca",
   "metadata": {},
   "outputs": [
    {
     "data": {
      "text/html": [
       "<div>\n",
       "<style scoped>\n",
       "    .dataframe tbody tr th:only-of-type {\n",
       "        vertical-align: middle;\n",
       "    }\n",
       "\n",
       "    .dataframe tbody tr th {\n",
       "        vertical-align: top;\n",
       "    }\n",
       "\n",
       "    .dataframe thead th {\n",
       "        text-align: right;\n",
       "    }\n",
       "</style>\n",
       "<table border=\"1\" class=\"dataframe\">\n",
       "  <thead>\n",
       "    <tr style=\"text-align: right;\">\n",
       "      <th></th>\n",
       "      <th>category</th>\n",
       "      <th>character</th>\n",
       "    </tr>\n",
       "  </thead>\n",
       "  <tbody>\n",
       "    <tr>\n",
       "      <th>0</th>\n",
       "      <td>Category:Blacklist members</td>\n",
       "      <td>Abraham J. Stern</td>\n",
       "    </tr>\n",
       "    <tr>\n",
       "      <th>1</th>\n",
       "      <td>Category:Blacklist members</td>\n",
       "      <td>Agathe Tyche</td>\n",
       "    </tr>\n",
       "    <tr>\n",
       "      <th>2</th>\n",
       "      <td>Category:Blacklist members</td>\n",
       "      <td>Alan Fitch</td>\n",
       "    </tr>\n",
       "    <tr>\n",
       "      <th>3</th>\n",
       "      <td>Category:Blacklist members</td>\n",
       "      <td>Alban Veseli</td>\n",
       "    </tr>\n",
       "    <tr>\n",
       "      <th>4</th>\n",
       "      <td>Category:Blacklist members</td>\n",
       "      <td>Albert Janus</td>\n",
       "    </tr>\n",
       "    <tr>\n",
       "      <th>...</th>\n",
       "      <td>...</td>\n",
       "      <td>...</td>\n",
       "    </tr>\n",
       "    <tr>\n",
       "      <th>1481</th>\n",
       "      <td>Category:Season 9 Characters</td>\n",
       "      <td>Tadashi Ito</td>\n",
       "    </tr>\n",
       "    <tr>\n",
       "      <th>1482</th>\n",
       "      <td>Category:Season 9 Characters</td>\n",
       "      <td>Tyson Lacroix</td>\n",
       "    </tr>\n",
       "    <tr>\n",
       "      <th>1483</th>\n",
       "      <td>Category:Season 9 Characters</td>\n",
       "      <td>Vlad Cvetko</td>\n",
       "    </tr>\n",
       "    <tr>\n",
       "      <th>1484</th>\n",
       "      <td>Category:Season 9 Characters</td>\n",
       "      <td>Weecha Xiu</td>\n",
       "    </tr>\n",
       "    <tr>\n",
       "      <th>1485</th>\n",
       "      <td>Category:Season 9 Characters</td>\n",
       "      <td>Wujing (Character)</td>\n",
       "    </tr>\n",
       "  </tbody>\n",
       "</table>\n",
       "<p>1486 rows × 2 columns</p>\n",
       "</div>"
      ],
      "text/plain": [
       "                          category           character\n",
       "0       Category:Blacklist members    Abraham J. Stern\n",
       "1       Category:Blacklist members        Agathe Tyche\n",
       "2       Category:Blacklist members          Alan Fitch\n",
       "3       Category:Blacklist members        Alban Veseli\n",
       "4       Category:Blacklist members        Albert Janus\n",
       "...                            ...                 ...\n",
       "1481  Category:Season 9 Characters         Tadashi Ito\n",
       "1482  Category:Season 9 Characters       Tyson Lacroix\n",
       "1483  Category:Season 9 Characters         Vlad Cvetko\n",
       "1484  Category:Season 9 Characters          Weecha Xiu\n",
       "1485  Category:Season 9 Characters  Wujing (Character)\n",
       "\n",
       "[1486 rows x 2 columns]"
      ]
     },
     "execution_count": 13,
     "metadata": {},
     "output_type": "execute_result"
    }
   ],
   "source": [
    "#list_to_DataFrame\n",
    "pd.DataFrame(characters_list)"
   ]
  },
  {
   "cell_type": "code",
   "execution_count": 14,
   "id": "2fd894f9",
   "metadata": {},
   "outputs": [
    {
     "data": {
      "text/plain": [
       "0         Category:Blacklist members\n",
       "1         Category:Blacklist members\n",
       "2         Category:Blacklist members\n",
       "3         Category:Blacklist members\n",
       "4         Category:Blacklist members\n",
       "                    ...             \n",
       "1481    Category:Season 9 Characters\n",
       "1482    Category:Season 9 Characters\n",
       "1483    Category:Season 9 Characters\n",
       "1484    Category:Season 9 Characters\n",
       "1485    Category:Season 9 Characters\n",
       "Name: category, Length: 1486, dtype: object"
      ]
     },
     "execution_count": 14,
     "metadata": {},
     "output_type": "execute_result"
    }
   ],
   "source": [
    "#category Column\n",
    "character_df = pd.DataFrame(characters_list)\n",
    "character_df['category']"
   ]
  },
  {
   "cell_type": "code",
   "execution_count": 15,
   "id": "6d12b8bd",
   "metadata": {},
   "outputs": [
    {
     "data": {
      "text/html": [
       "<div>\n",
       "<style scoped>\n",
       "    .dataframe tbody tr th:only-of-type {\n",
       "        vertical-align: middle;\n",
       "    }\n",
       "\n",
       "    .dataframe tbody tr th {\n",
       "        vertical-align: top;\n",
       "    }\n",
       "\n",
       "    .dataframe thead th {\n",
       "        text-align: right;\n",
       "    }\n",
       "</style>\n",
       "<table border=\"1\" class=\"dataframe\">\n",
       "  <thead>\n",
       "    <tr style=\"text-align: right;\">\n",
       "      <th></th>\n",
       "      <th>category</th>\n",
       "      <th>character</th>\n",
       "    </tr>\n",
       "  </thead>\n",
       "  <tbody>\n",
       "    <tr>\n",
       "      <th>0</th>\n",
       "      <td>Blacklist members</td>\n",
       "      <td>Abraham J. Stern</td>\n",
       "    </tr>\n",
       "    <tr>\n",
       "      <th>1</th>\n",
       "      <td>Blacklist members</td>\n",
       "      <td>Agathe Tyche</td>\n",
       "    </tr>\n",
       "    <tr>\n",
       "      <th>2</th>\n",
       "      <td>Blacklist members</td>\n",
       "      <td>Alan Fitch</td>\n",
       "    </tr>\n",
       "    <tr>\n",
       "      <th>3</th>\n",
       "      <td>Blacklist members</td>\n",
       "      <td>Alban Veseli</td>\n",
       "    </tr>\n",
       "    <tr>\n",
       "      <th>4</th>\n",
       "      <td>Blacklist members</td>\n",
       "      <td>Albert Janus</td>\n",
       "    </tr>\n",
       "    <tr>\n",
       "      <th>...</th>\n",
       "      <td>...</td>\n",
       "      <td>...</td>\n",
       "    </tr>\n",
       "    <tr>\n",
       "      <th>1481</th>\n",
       "      <td>Season 9 Characters</td>\n",
       "      <td>Tadashi Ito</td>\n",
       "    </tr>\n",
       "    <tr>\n",
       "      <th>1482</th>\n",
       "      <td>Season 9 Characters</td>\n",
       "      <td>Tyson Lacroix</td>\n",
       "    </tr>\n",
       "    <tr>\n",
       "      <th>1483</th>\n",
       "      <td>Season 9 Characters</td>\n",
       "      <td>Vlad Cvetko</td>\n",
       "    </tr>\n",
       "    <tr>\n",
       "      <th>1484</th>\n",
       "      <td>Season 9 Characters</td>\n",
       "      <td>Weecha Xiu</td>\n",
       "    </tr>\n",
       "    <tr>\n",
       "      <th>1485</th>\n",
       "      <td>Season 9 Characters</td>\n",
       "      <td>Wujing (Character)</td>\n",
       "    </tr>\n",
       "  </tbody>\n",
       "</table>\n",
       "<p>1486 rows × 2 columns</p>\n",
       "</div>"
      ],
      "text/plain": [
       "                 category           character\n",
       "0       Blacklist members    Abraham J. Stern\n",
       "1       Blacklist members        Agathe Tyche\n",
       "2       Blacklist members          Alan Fitch\n",
       "3       Blacklist members        Alban Veseli\n",
       "4       Blacklist members        Albert Janus\n",
       "...                   ...                 ...\n",
       "1481  Season 9 Characters         Tadashi Ito\n",
       "1482  Season 9 Characters       Tyson Lacroix\n",
       "1483  Season 9 Characters         Vlad Cvetko\n",
       "1484  Season 9 Characters          Weecha Xiu\n",
       "1485  Season 9 Characters  Wujing (Character)\n",
       "\n",
       "[1486 rows x 2 columns]"
      ]
     },
     "execution_count": 15,
     "metadata": {},
     "output_type": "execute_result"
    }
   ],
   "source": [
    "#Remove \"Category:\" From category \n",
    "character_df['category'] = character_df['category'].map(lambda x: x.replace('Category:',''))\n",
    "character_df"
   ]
  },
  {
   "cell_type": "markdown",
   "id": "c8b19903",
   "metadata": {},
   "source": [
    "# Number of characters per category"
   ]
  },
  {
   "cell_type": "code",
   "execution_count": 16,
   "id": "da72a7d5",
   "metadata": {},
   "outputs": [
    {
     "data": {
      "image/png": "[encoded data removed]",
      "text/plain": [
       "<Figure size 936x1080 with 1 Axes>"
      ]
     },
     "metadata": {
      "needs_background": "light"
     },
     "output_type": "display_data"
    }
   ],
   "source": [
    "character_df['category'].value_counts().plot(kind=\"barh\", figsize=(13,15), fontsize=16 )\n",
    "plt.show()"
   ]
  },
  {
   "cell_type": "code",
   "execution_count": null,
   "id": "79e6cc1d",
   "metadata": {},
   "outputs": [],
   "source": []
  }
 ],
 "metadata": {
  "kernelspec": {
   "display_name": "Python 3 (ipykernel)",
   "language": "python",
   "name": "python3"
  },
  "language_info": {
   "codemirror_mode": {
    "name": "ipython",
    "version": 3
   },
   "file_extension": ".py",
   "mimetype": "text/x-python",
   "name": "python",
   "nbconvert_exporter": "python",
   "pygments_lexer": "ipython3",
   "version": "3.9.12"
  }
 },
 "nbformat": 4,
 "nbformat_minor": 5
}
